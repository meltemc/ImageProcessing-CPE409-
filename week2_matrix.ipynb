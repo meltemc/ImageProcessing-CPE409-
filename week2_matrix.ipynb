{
 "cells": [
  {
   "cell_type": "code",
   "execution_count": 1,
   "metadata": {},
   "outputs": [
    {
     "name": "stdout",
     "output_type": "stream",
     "text": [
      "type: <class 'numpy.ndarray'>\n",
      "a= \n",
      " [[ 1  4  5]\n",
      " [-5  8  9]\n",
      " [ 6  8 10]\n",
      " [ 0  2 38]] \n",
      "\n",
      "a[1]= [-5  8  9]\n",
      "a[1][2]= 9\n",
      "a[0][-1]= 5\n"
     ]
    }
   ],
   "source": [
    "import numpy as np\n",
    "\n",
    "a=np.array([[1, 4, 5], #numpy array\n",
    "            [-5, 8, 9],\n",
    "            [6, 8, 10],\n",
    "            [0, 2, 38]])\n",
    "print(\"type:\",type(a))\n",
    "print(\"a=\",\"\\n\", a ,\"\\n\")\n",
    "print(\"a[1]=\", a[1]) #2.satır\n",
    "print(\"a[1][2]=\", a[1][2])  #2.satırın 3.elemanı\n",
    "print(\"a[0][-1]=\", a[0][-1])   #ilk satırın 3.elemanı"
   ]
  }
 ],
 "metadata": {
  "kernelspec": {
   "display_name": "Python 3.10.7 64-bit",
   "language": "python",
   "name": "python3"
  },
  "language_info": {
   "codemirror_mode": {
    "name": "ipython",
    "version": 3
   },
   "file_extension": ".py",
   "mimetype": "text/x-python",
   "name": "python",
   "nbconvert_exporter": "python",
   "pygments_lexer": "ipython3",
   "version": "3.10.7"
  },
  "orig_nbformat": 4,
  "vscode": {
   "interpreter": {
    "hash": "aee8b7b246df8f9039afb4144a1f6fd8d2ca17a180786b69acc140d282b71a49"
   }
  }
 },
 "nbformat": 4,
 "nbformat_minor": 2
}
