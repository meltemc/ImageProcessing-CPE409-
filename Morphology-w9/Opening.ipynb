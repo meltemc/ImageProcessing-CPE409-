{
 "cells": [
  {
   "cell_type": "code",
   "execution_count": 1,
   "metadata": {},
   "outputs": [],
   "source": [
    "import cv2\n",
    "import numpy as np\n",
    "img = cv2.imread(\"isim.png\",0)\n",
    "cv2.imshow('Original', img)\n",
    "cv2.waitKey(0)\n",
    "kernel = np.ones((5,5),dtype=np.uint8)\n",
    "whiteNoise = np.random.randint(0,2,size=img.shape[:2])\n",
    "whiteNoise = whiteNoise*255\n",
    "noise_img=whiteNoise + img\n",
    "#noise_img = noise_img.astype(np.uint8)\n",
    "#cv2.imshow('noise_img', noise_img)\n",
    "#cv2.waitKey(0)\n",
    "opening = cv2.morphologyEx(noise_img.astype(np.float32),cv2.MORPH_OPEN,kernel)\n",
    "cv2.imshow('Opening', opening)\n",
    "cv2.waitKey(0)"
   ]
  },
  {
   "cell_type": "code",
   "execution_count": null,
   "metadata": {},
   "outputs": [],
   "source": []
  }
 ],
 "metadata": {
  "kernelspec": {
   "display_name": "Python 3.9.12 ('base')",
   "language": "python",
   "name": "python3"
  },
  "language_info": {
   "codemirror_mode": {
    "name": "ipython",
    "version": 3
   },
   "file_extension": ".py",
   "mimetype": "text/x-python",
   "name": "python",
   "nbconvert_exporter": "python",
   "pygments_lexer": "ipython3",
   "version": "3.9.12"
  },
  "orig_nbformat": 4,
  "vscode": {
   "interpreter": {
    "hash": "3afabc83b8645353b13ed2d3a33c619cde106695b6aa0417645d3af0bcc05413"
   }
  }
 },
 "nbformat": 4,
 "nbformat_minor": 2
}
