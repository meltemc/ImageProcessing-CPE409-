{
 "cells": [
  {
   "cell_type": "code",
   "execution_count": 1,
   "metadata": {},
   "outputs": [],
   "source": [
    "import cv2\n",
    "picture1 = cv2.imread(\"brain.jpeg\")\n",
    "hsvImage = cv2.cvtColor(picture1, cv2.COLOR_RGB2HSV)\n",
    "rgbImage = cv2.cvtColor(hsvImage, cv2.COLOR_HSV2RGB)\n",
    "cv2.imshow(\"Original\",picture1)\n",
    "cv2.imshow(\"hsvImage\",hsvImage)\n",
    "cv2.imshow(\"rgbImage\",rgbImage)\n",
    "cv2.waitKey(0)\n",
    "cv2.destroyAllWindows()"
   ]
  }
 ],
 "metadata": {
  "kernelspec": {
   "display_name": "Python 3.9.12 ('base')",
   "language": "python",
   "name": "python3"
  },
  "language_info": {
   "codemirror_mode": {
    "name": "ipython",
    "version": 3
   },
   "file_extension": ".py",
   "mimetype": "text/x-python",
   "name": "python",
   "nbconvert_exporter": "python",
   "pygments_lexer": "ipython3",
   "version": "3.9.12"
  },
  "orig_nbformat": 4,
  "vscode": {
   "interpreter": {
    "hash": "3afabc83b8645353b13ed2d3a33c619cde106695b6aa0417645d3af0bcc05413"
   }
  }
 },
 "nbformat": 4,
 "nbformat_minor": 2
}
