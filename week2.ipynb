{
 "cells": [
  {
   "cell_type": "code",
   "execution_count": 1,
   "metadata": {},
   "outputs": [
    {
     "name": "stdout",
     "output_type": "stream",
     "text": [
      "7998000\n",
      "uint8\n",
      "(1333, 2000, 3)\n"
     ]
    }
   ],
   "source": [
    "import cv2\n",
    "import numpy as np\n",
    " \n",
    "img1=cv2.imread(\"brain.jpeg\")\n",
    "cv2.imshow(\"Brain\",img1)\n",
    "\n",
    "print(img1.size)\n",
    "     \n",
    "print(img1.dtype)\n",
    "\n",
    "print(img1.shape)\n",
    "cv2.waitKey(0)\n",
    "cv2.destroyAllWindows()"
   ]
  }
 ],
 "metadata": {
  "kernelspec": {
   "display_name": "Python 3.9.12 ('base')",
   "language": "python",
   "name": "python3"
  },
  "language_info": {
   "codemirror_mode": {
    "name": "ipython",
    "version": 3
   },
   "file_extension": ".py",
   "mimetype": "text/x-python",
   "name": "python",
   "nbconvert_exporter": "python",
   "pygments_lexer": "ipython3",
   "version": "3.9.12"
  },
  "orig_nbformat": 4,
  "vscode": {
   "interpreter": {
    "hash": "3dec19beeaec94da93ed1dd4b6c4e3874510ea881bc0f10f4948eb12e5c5a7af"
   }
  }
 },
 "nbformat": 4,
 "nbformat_minor": 2
}
