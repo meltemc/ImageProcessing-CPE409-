{
 "cells": [
  {
   "cell_type": "code",
   "execution_count": 1,
   "metadata": {},
   "outputs": [],
   "source": [
    "import numpy as np\n",
    "import cv2\n",
    "\n",
    "img =  cv2.imread(\"gamma.jpg\")\n",
    "gamma3=np.array(255*(img / 255) ** 3.0, dtype = 'uint8')\n",
    "gamma4=np.array(255*(img / 255) ** 4.0, dtype = 'uint8')\n",
    "gamma5=np.array(255*(img / 255) ** 5.0, dtype = 'uint8')\n",
    "cv2.imshow(\"Original - Gamma 3.0-4.0-5.0\", np.hstack((img,gamma3,gamma4,gamma5)))\n",
    "cv2.waitKey(0)\n",
    "cv2.destroyAllWindows()"
   ]
  }
 ],
 "metadata": {
  "kernelspec": {
   "display_name": "Python 3.9.12 ('base')",
   "language": "python",
   "name": "python3"
  },
  "language_info": {
   "codemirror_mode": {
    "name": "ipython",
    "version": 3
   },
   "file_extension": ".py",
   "mimetype": "text/x-python",
   "name": "python",
   "nbconvert_exporter": "python",
   "pygments_lexer": "ipython3",
   "version": "3.9.12"
  },
  "orig_nbformat": 4,
  "vscode": {
   "interpreter": {
    "hash": "3dec19beeaec94da93ed1dd4b6c4e3874510ea881bc0f10f4948eb12e5c5a7af"
   }
  }
 },
 "nbformat": 4,
 "nbformat_minor": 2
}
