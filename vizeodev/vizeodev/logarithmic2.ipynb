{
 "cells": [
  {
   "cell_type": "code",
   "execution_count": 1,
   "metadata": {},
   "outputs": [
    {
     "data": {
      "text/plain": [
       "52"
      ]
     },
     "execution_count": 1,
     "metadata": {},
     "output_type": "execute_result"
    }
   ],
   "source": [
    "import cv2\n",
    "import numpy as np\n",
    "# Load the image\n",
    "img = cv2.imread('gamma.JPG')\n",
    "# Apply log transform\n",
    "img_log = (np.log(img+1)/(np.log(1+np.max(img))))*255\n",
    "# Specify the data type\n",
    "img_log = np.array(img_log,dtype=np.uint8)\n",
    "# Display the image\n",
    "cv2.imshow('log_image',img_log )\n",
    "cv2.imshow('original_img',img)\n",
    "cv2.waitKey(0)"
   ]
  }
 ],
 "metadata": {
  "kernelspec": {
   "display_name": "Python 3.9.12 ('base')",
   "language": "python",
   "name": "python3"
  },
  "language_info": {
   "codemirror_mode": {
    "name": "ipython",
    "version": 3
   },
   "file_extension": ".py",
   "mimetype": "text/x-python",
   "name": "python",
   "nbconvert_exporter": "python",
   "pygments_lexer": "ipython3",
   "version": "3.9.12"
  },
  "orig_nbformat": 4,
  "vscode": {
   "interpreter": {
    "hash": "3dec19beeaec94da93ed1dd4b6c4e3874510ea881bc0f10f4948eb12e5c5a7af"
   }
  }
 },
 "nbformat": 4,
 "nbformat_minor": 2
}
