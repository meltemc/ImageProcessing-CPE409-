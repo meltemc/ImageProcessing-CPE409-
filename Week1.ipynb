{
  "nbformat": 4,
  "nbformat_minor": 0,
  "metadata": {
    "colab": {
      "provenance": [],
      "collapsed_sections": [],
      "authorship_tag": "ABX9TyPYWI5w1ur/xJExqX8R82t0",
      "include_colab_link": true
    },
    "kernelspec": {
      "name": "python3",
      "display_name": "Python 3"
    },
    "language_info": {
      "name": "python"
    }
  },
  "cells": [
    {
      "cell_type": "markdown",
      "metadata": {
        "id": "view-in-github",
        "colab_type": "text"
      },
      "source": [
        "<a href=\"https://colab.research.google.com/github/meltemc/ImageProcessing-CPE409-/blob/main/Week1.ipynb\" target=\"_parent\"><img src=\"https://colab.research.google.com/assets/colab-badge.svg\" alt=\"Open In Colab\"/></a>"
      ]
    },
    {
      "cell_type": "code",
      "execution_count": null,
      "metadata": {
        "id": "mAhWDDNL7-8c"
      },
      "outputs": [],
      "source": [
        "#python code to find prime numbers between 2 entered numbers"
        "def asalSayılariBul(sayi1, sayi2):\n",
        "    for sayi in range(sayi1, sayi2+1):\n",
        "        if sayi > 1:\n",
        "            for i in range(2, sayi):\n",
        "                if (sayi % i == 0):\n",
        "                    break\n",
        "            else:\n",
        "                print(sayi)\n",
        "\n",
        "sayi1 = int(input('sayı 1:'))\n",
        "sayi2 = int(input('sayı 2:'))\n",
        "\n",
        "asalSayılariBul(sayi1, sayi2)"
      ]
    }
  ]
}
