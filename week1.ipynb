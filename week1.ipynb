{
  "nbformat": 4,
  "nbformat_minor": 0,
  "metadata": {
    "colab": {
      "provenance": [],
      "collapsed_sections": []
    },
    "kernelspec": {
      "name": "python3",
      "display_name": "Python 3"
    },
    "language_info": {
      "name": "python"
    }
  },
  "cells": [
    {
      "cell_type": "code",
      "execution_count": 2,
      "metadata": {
        "colab": {
          "base_uri": "https://localhost:8080/"
        },
        "id": "mAhWDDNL7-8c",
        "outputId": "e6c1ceb0-6087-4a79-c48c-63dcc3b87387"
      },
      "outputs": [
        {
          "output_type": "stream",
          "name": "stdout",
          "text": [
            "sayı 1:1\n",
            "sayı 2:7\n",
            "2\n",
            "3\n",
            "5\n",
            "7\n"
          ]
        }
      ],
      "source": [
        "def asalSayılariBul(sayi1, sayi2):\n",
        "    for sayi in range(sayi1, sayi2+1):\n",
        "        if sayi > 1:\n",
        "            for i in range(2, sayi):\n",
        "                if (sayi % i == 0):\n",
        "                    break\n",
        "            else:\n",
        "                print(sayi)\n",
        "\n",
        "sayi1 = int(input('sayı 1:'))\n",
        "sayi2 = int(input('sayı 2:'))\n",
        "\n",
        "asalSayılariBul(sayi1, sayi2)"
      ]
    }
  ]
}