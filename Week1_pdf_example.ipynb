{
  "nbformat": 4,
  "nbformat_minor": 0,
  "metadata": {
    "colab": {
      "provenance": [],
      "authorship_tag": "ABX9TyMabLI5xWMQwj3AAZgX4Ib8",
      "include_colab_link": true
    },
    "kernelspec": {
      "name": "python3",
      "display_name": "Python 3"
    },
    "language_info": {
      "name": "python"
    }
  },
  "cells": [
    {
      "cell_type": "markdown",
      "metadata": {
        "id": "view-in-github",
        "colab_type": "text"
      },
      "source": [
        "<a href=\"https://colab.research.google.com/github/meltemc/ImageProcessing-CPE409-/blob/main/Week1_pdf_example.ipynb\" target=\"_parent\"><img src=\"https://colab.research.google.com/assets/colab-badge.svg\" alt=\"Open In Colab\"/></a>"
      ]
    },
    {
      "cell_type": "code",
      "execution_count": null,
      "metadata": {
        "id": "Ycefu4SpDspc"
      },
      "outputs": [],
      "source": [
        "\"\"\"The code in which the elements taken\n",
        "from the user are added to the list as much as the\n",
        "number entered by the user and the average of\n",
        "the values in the list is calculated\"\"\"\n",
        "\n",
        "n=int(input(\"Kac adet sayi girilecek:\"))\n",
        "a=[]\n",
        "for i in range(0,n):\n",
        "  elem=int(input(\"Sayiyi Girin:\"))\n",
        "  a.append(elem)\n",
        "avg=sum(a)/n\n",
        "print(\"Girilen sayilarin ortalamasi:\",round(avg,2))"
      ]
    }
  ]
}